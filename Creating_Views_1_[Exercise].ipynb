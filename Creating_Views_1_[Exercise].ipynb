{
  "cells": [
    {
      "cell_type": "markdown",
      "id": "51b1254d",
      "metadata": {
        "id": "51b1254d"
      },
      "source": [
        "<div align=\"right\" style=\" font-size: 80%; text-align: center; margin: 0 auto\">\n",
        "<img src=\"https://raw.githubusercontent.com/Explore-AI/Pictures/master/ExploreAI_logos/Logo blue_dark.png\"  style=\"width:25px\" align=\"right\";/>\n",
        "</div>"
      ]
    },
    {
      "cell_type": "markdown",
      "id": "f662d169",
      "metadata": {
        "id": "f662d169"
      },
      "source": [
        "# Creating views 1\n",
        "© ExploreAI Academy"
      ]
    },
    {
      "cell_type": "markdown",
      "id": "26af890c",
      "metadata": {
        "id": "26af890c"
      },
      "source": [
        "In this exercise, we learn how to create different types of views and how to drop views.\n",
        "\n",
        "Ensure that you have downloaded the database file Chinook.db."
      ]
    },
    {
      "cell_type": "markdown",
      "id": "2d230d14",
      "metadata": {
        "id": "2d230d14"
      },
      "source": [
        "## Learning objectives\n",
        "\n",
        "By the end of this train, you should be able to:\n",
        "- Create `LOOKUP`, `JOIN`, and `AGGREGATING` views.\n",
        "- Drop a view."
      ]
    },
    {
      "cell_type": "markdown",
      "id": "7fd5e3b8",
      "metadata": {
        "id": "7fd5e3b8"
      },
      "source": [
        "First, let's load our sample database:"
      ]
    },
    {
      "cell_type": "code",
      "execution_count": 1,
      "id": "2d0d820e",
      "metadata": {
        "id": "2d0d820e"
      },
      "outputs": [],
      "source": [
        "# Load and activate the SQL extension to allow us to execute SQL in a Jupyter notebook.\n",
        "%load_ext sql\n"
      ]
    },
    {
      "cell_type": "code",
      "execution_count": 2,
      "id": "599e3c6c",
      "metadata": {
        "id": "599e3c6c"
      },
      "outputs": [],
      "source": [
        "# Load the Chinook database stored in your local machine.\n",
        "# Make sure the file is saved in the same folder as this notebook.\n",
        "%sql sqlite:///chinook.db"
      ]
    },
    {
      "cell_type": "markdown",
      "id": "06af8b46",
      "metadata": {
        "id": "06af8b46"
      },
      "source": [
        "Here is a [view](https://www.lucidchart.com/pages/er-diagrams) of all of our tables in the database:"
      ]
    },
    {
      "cell_type": "markdown",
      "id": "08883cce",
      "metadata": {
        "id": "08883cce"
      },
      "source": [
        "<div align=\"center\" style=\" font-size: 80%; text-align: center; margin: 0 auto\">\n",
        "<img src=\"https://github.com/Explore-AI/Pictures/blob/master/sqlite-sample-database-color.jpg?raw=true\"  style=\"width:500px\";/>\n",
        "<br>\n",
        "<br>\n",
        "    <em>Figure 1: Chinook ERD</em>\n",
        "</div>\n"
      ]
    },
    {
      "cell_type": "markdown",
      "id": "920e89d2",
      "metadata": {
        "id": "920e89d2"
      },
      "source": [
        "## Exercise\n",
        "\n",
        "Run the necessary queries that will provide us with the following information. Compare your queries with the solutions at the end of this notebook."
      ]
    },
    {
      "cell_type": "markdown",
      "id": "466e53c1",
      "metadata": {
        "id": "466e53c1"
      },
      "source": [
        "### Exercise 1\n",
        "\n",
        "Create a `LOOKUP` view of the surname, first name, title, and country of each employee called `Employee_View`.\n"
      ]
    },
    {
      "cell_type": "code",
      "execution_count": 3,
      "id": "038f28ea",
      "metadata": {
        "colab": {
          "base_uri": "https://localhost:8080/"
        },
        "id": "038f28ea",
        "outputId": "7cae9366-8c5c-4032-8e3d-57599e55e36f"
      },
      "outputs": [
        {
          "output_type": "stream",
          "name": "stdout",
          "text": [
            " * sqlite:///chinook.db\n",
            "Done.\n"
          ]
        },
        {
          "output_type": "execute_result",
          "data": {
            "text/plain": [
              "[]"
            ]
          },
          "metadata": {},
          "execution_count": 3
        }
      ],
      "source": [
        "# Add your code here\n",
        "%%sql\n",
        "\n",
        "CREATE VIEW Employee_View AS\n",
        "SELECT LastName, FirstName, Title, Country\n",
        "FROM Employees;"
      ]
    },
    {
      "cell_type": "markdown",
      "id": "86802726",
      "metadata": {
        "id": "86802726"
      },
      "source": [
        "### Exercise 2\n",
        "\n",
        "\n",
        "Query the `Employee_View` view to get a view of the sales team.\n",
        "\n",
        "Use the wildcard operators and the LIKE query to filter all the employees in the specified view."
      ]
    },
    {
      "cell_type": "code",
      "execution_count": null,
      "id": "91f3421f",
      "metadata": {
        "id": "91f3421f"
      },
      "outputs": [],
      "source": [
        "# Add your code here\n",
        "%%sql\n",
        "SELECT * FROM Employee_View\n",
        "WHERE Title LIKE '%Sales%'"
      ]
    },
    {
      "cell_type": "markdown",
      "id": "f0fade51",
      "metadata": {
        "id": "f0fade51"
      },
      "source": [
        "### Exercise 3\n",
        "\n",
        "\n",
        "Create a `JOIN` view that will link up all the customers with the support staff assisting them, called `Customer_Support_View`. We want to view the following:\n",
        "\n",
        "- First name of the customer\n",
        "- Last name (surname) of the customer\n",
        "- Country where the customer resides\n",
        "- SupportRepId\n",
        "- EmployeeId\n",
        "- Last name of the employee\n",
        "- First name of the employee\n",
        "- Job title of the employee\n",
        "- Country where the employee operated from"
      ]
    },
    {
      "cell_type": "code",
      "execution_count": null,
      "id": "748f4263",
      "metadata": {
        "id": "748f4263"
      },
      "outputs": [],
      "source": [
        "# Add your code here\n",
        "%%sql\n",
        "\n",
        "CREATE VIEW Customer_Support_View AS\n",
        "SELECT c.FirstName Customer_Name, c.LastName Customer_Surname, c.Country Customer_Country, c.SupportRepId, e.EmployeeId, e.LastName Employee_surname, e.FirstName Employee_first_name, e.Title Employee_job_title, e.Country Employee_Country\n",
        "FROM customers c\n",
        "INNER JOIN employees e\n",
        "ON c.SupportRepId = e.EmployeeId"
      ]
    },
    {
      "cell_type": "markdown",
      "id": "f28aef00",
      "metadata": {
        "id": "f28aef00"
      },
      "source": [
        "### Exercise 4\n",
        "\n",
        "Query the `Customer_Support_View` view to get a list of the names and surnames of the clients who were helped by an employee with the `Employeeid` '3'.\n"
      ]
    },
    {
      "cell_type": "code",
      "execution_count": null,
      "id": "f4621a53",
      "metadata": {
        "id": "f4621a53"
      },
      "outputs": [],
      "source": [
        "# Add your code here\n",
        "%%sql\n",
        "\n",
        "SELECT Customer_Name, Customer_Surname\n",
        "FROM Customer_Support_View\n",
        "WHERE Employeeid = 3;"
      ]
    },
    {
      "cell_type": "markdown",
      "id": "7a51093c",
      "metadata": {
        "id": "7a51093c"
      },
      "source": [
        "### Exercise 5\n",
        "\n",
        "Create an `AGGREGATING` view that counts the number of customers that are currently being serviced per country, called `Customer_per_Country_View`.\n",
        "\n",
        "We would like to see the country name and the number of customers in this view.\n"
      ]
    },
    {
      "cell_type": "code",
      "execution_count": null,
      "id": "99479d5f",
      "metadata": {
        "id": "99479d5f"
      },
      "outputs": [],
      "source": [
        "# Add your code here\n",
        "%%sql\n",
        "\n",
        "CREATE VIEW Customer_per_Country_View AS\n",
        "SELECT COUNT (CustomerId) AS Num_customers, Country\n",
        "FROM customers\n",
        "GROUP BY Country;"
      ]
    },
    {
      "cell_type": "markdown",
      "id": "d5aefbd6",
      "metadata": {
        "id": "d5aefbd6"
      },
      "source": [
        "### Exercise 6\n",
        "Write a query that returns the country with the most customers from `Customer_per_Country_View`.\n"
      ]
    },
    {
      "cell_type": "code",
      "execution_count": null,
      "id": "fc98fe10",
      "metadata": {
        "id": "fc98fe10"
      },
      "outputs": [],
      "source": [
        "# Add your code here\n",
        "%%sql\n",
        "\n",
        "SELECT Country, MAX(Num_customers)\n",
        "FROM Customer_per_Country_View"
      ]
    },
    {
      "cell_type": "markdown",
      "id": "a18b461d",
      "metadata": {
        "id": "a18b461d"
      },
      "source": [
        "### Exercise 7\n",
        "\n",
        "Write a query that will delete the `Employee_View` view."
      ]
    },
    {
      "cell_type": "code",
      "execution_count": null,
      "id": "ee7daac8",
      "metadata": {
        "id": "ee7daac8"
      },
      "outputs": [],
      "source": [
        "# Add your code here\n",
        "%%sql\n",
        "\n",
        "DROP VIEW Employee_View"
      ]
    },
    {
      "cell_type": "markdown",
      "id": "dde873fc",
      "metadata": {
        "id": "dde873fc"
      },
      "source": [
        "### Challenge question\n",
        "\n",
        "Write a query that returns the number of customers that each support employee services, along with the name of the employee. Call this view `Support_Person_Stats`.\n",
        "\n",
        "To do this, we will need to create a view, join the Customer and Employee tables, and use the `COUNT` and `GROUP BY` functions to aggregate the number of employees serviced by each employee."
      ]
    },
    {
      "cell_type": "code",
      "execution_count": null,
      "id": "57804ebf",
      "metadata": {
        "id": "57804ebf"
      },
      "outputs": [],
      "source": [
        "# Add your code here\n",
        "%%sql\n",
        "\n",
        "CREATE VIEW Support_Person_Stats AS\n",
        "SELECT COUNT(c.SupportRepId) Count_of_Customers_Serviced , e.EmployeeId, e.LastName\n",
        "FROM customers c\n",
        "INNER JOIN employees e\n",
        "ON c.SupportRepId = e.EmployeeId\n",
        "GROUP BY e.EmployeeId;"
      ]
    }
  ],
  "metadata": {
    "kernelspec": {
      "display_name": "Python 3 (ipykernel)",
      "language": "python",
      "name": "python3"
    },
    "language_info": {
      "codemirror_mode": {
        "name": "ipython",
        "version": 3
      },
      "file_extension": ".py",
      "mimetype": "text/x-python",
      "name": "python",
      "nbconvert_exporter": "python",
      "pygments_lexer": "ipython3",
      "version": "3.11.5"
    },
    "colab": {
      "provenance": [],
      "toc_visible": true
    }
  },
  "nbformat": 4,
  "nbformat_minor": 5
}